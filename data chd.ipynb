{
 "cells": [
  {
   "cell_type": "code",
   "execution_count": 10,
   "id": "3640c93d",
   "metadata": {},
   "outputs": [
    {
     "data": {
      "text/html": [
       "<div>\n",
       "<style scoped>\n",
       "    .dataframe tbody tr th:only-of-type {\n",
       "        vertical-align: middle;\n",
       "    }\n",
       "\n",
       "    .dataframe tbody tr th {\n",
       "        vertical-align: top;\n",
       "    }\n",
       "\n",
       "    .dataframe thead th {\n",
       "        text-align: right;\n",
       "    }\n",
       "</style>\n",
       "<table border=\"1\" class=\"dataframe\">\n",
       "  <thead>\n",
       "    <tr style=\"text-align: right;\">\n",
       "      <th></th>\n",
       "      <th>age</th>\n",
       "      <th>chd</th>\n",
       "    </tr>\n",
       "  </thead>\n",
       "  <tbody>\n",
       "    <tr>\n",
       "      <th>0</th>\n",
       "      <td>20</td>\n",
       "      <td>0</td>\n",
       "    </tr>\n",
       "    <tr>\n",
       "      <th>1</th>\n",
       "      <td>23</td>\n",
       "      <td>0</td>\n",
       "    </tr>\n",
       "    <tr>\n",
       "      <th>2</th>\n",
       "      <td>24</td>\n",
       "      <td>0</td>\n",
       "    </tr>\n",
       "    <tr>\n",
       "      <th>3</th>\n",
       "      <td>25</td>\n",
       "      <td>1</td>\n",
       "    </tr>\n",
       "    <tr>\n",
       "      <th>4</th>\n",
       "      <td>25</td>\n",
       "      <td>0</td>\n",
       "    </tr>\n",
       "    <tr>\n",
       "      <th>...</th>\n",
       "      <td>...</td>\n",
       "      <td>...</td>\n",
       "    </tr>\n",
       "    <tr>\n",
       "      <th>95</th>\n",
       "      <td>63</td>\n",
       "      <td>1</td>\n",
       "    </tr>\n",
       "    <tr>\n",
       "      <th>96</th>\n",
       "      <td>64</td>\n",
       "      <td>1</td>\n",
       "    </tr>\n",
       "    <tr>\n",
       "      <th>97</th>\n",
       "      <td>64</td>\n",
       "      <td>0</td>\n",
       "    </tr>\n",
       "    <tr>\n",
       "      <th>98</th>\n",
       "      <td>65</td>\n",
       "      <td>1</td>\n",
       "    </tr>\n",
       "    <tr>\n",
       "      <th>99</th>\n",
       "      <td>69</td>\n",
       "      <td>1</td>\n",
       "    </tr>\n",
       "  </tbody>\n",
       "</table>\n",
       "<p>100 rows × 2 columns</p>\n",
       "</div>"
      ],
      "text/plain": [
       "    age  chd\n",
       "0    20    0\n",
       "1    23    0\n",
       "2    24    0\n",
       "3    25    1\n",
       "4    25    0\n",
       "..  ...  ...\n",
       "95   63    1\n",
       "96   64    1\n",
       "97   64    0\n",
       "98   65    1\n",
       "99   69    1\n",
       "\n",
       "[100 rows x 2 columns]"
      ]
     },
     "execution_count": 10,
     "metadata": {},
     "output_type": "execute_result"
    }
   ],
   "source": [
    "# Importing the required library\n",
    "import pandas as pd\n",
    "import numpy as np\n",
    "# Importing the dataset\n",
    "chd = pd.read_csv(\"D:/aiml/chd_data.csv\")\n",
    "# Printing the first 5 rows\n",
    "chd\n"
   ]
  },
  {
   "cell_type": "code",
   "execution_count": 11,
   "id": "ab55b050",
   "metadata": {},
   "outputs": [
    {
     "data": {
      "text/html": [
       "<div>\n",
       "<style scoped>\n",
       "    .dataframe tbody tr th:only-of-type {\n",
       "        vertical-align: middle;\n",
       "    }\n",
       "\n",
       "    .dataframe tbody tr th {\n",
       "        vertical-align: top;\n",
       "    }\n",
       "\n",
       "    .dataframe thead th {\n",
       "        text-align: right;\n",
       "    }\n",
       "</style>\n",
       "<table border=\"1\" class=\"dataframe\">\n",
       "  <thead>\n",
       "    <tr style=\"text-align: right;\">\n",
       "      <th></th>\n",
       "      <th>age</th>\n",
       "      <th>chd</th>\n",
       "    </tr>\n",
       "  </thead>\n",
       "  <tbody>\n",
       "    <tr>\n",
       "      <th>0</th>\n",
       "      <td>20</td>\n",
       "      <td>0</td>\n",
       "    </tr>\n",
       "    <tr>\n",
       "      <th>1</th>\n",
       "      <td>23</td>\n",
       "      <td>0</td>\n",
       "    </tr>\n",
       "    <tr>\n",
       "      <th>2</th>\n",
       "      <td>24</td>\n",
       "      <td>0</td>\n",
       "    </tr>\n",
       "    <tr>\n",
       "      <th>3</th>\n",
       "      <td>25</td>\n",
       "      <td>1</td>\n",
       "    </tr>\n",
       "    <tr>\n",
       "      <th>4</th>\n",
       "      <td>25</td>\n",
       "      <td>0</td>\n",
       "    </tr>\n",
       "  </tbody>\n",
       "</table>\n",
       "</div>"
      ],
      "text/plain": [
       "   age  chd\n",
       "0   20    0\n",
       "1   23    0\n",
       "2   24    0\n",
       "3   25    1\n",
       "4   25    0"
      ]
     },
     "execution_count": 11,
     "metadata": {},
     "output_type": "execute_result"
    }
   ],
   "source": [
    "chd.head()"
   ]
  },
  {
   "cell_type": "code",
   "execution_count": 12,
   "id": "86302821",
   "metadata": {},
   "outputs": [
    {
     "data": {
      "text/plain": [
       "Text(0.5, 1.0, 'Age vs. Coronary Heart Disease')"
      ]
     },
     "execution_count": 12,
     "metadata": {},
     "output_type": "execute_result"
    },
    {
     "data": {
      "image/png": "[encoded data removed]",
      "text/plain": [
       "<Figure size 432x288 with 1 Axes>"
      ]
     },
     "metadata": {
      "needs_background": "light"
     },
     "output_type": "display_data"
    }
   ],
   "source": [
    "# Importing the required library\n",
    "import matplotlib.pyplot as plt\n",
    "%matplotlib inline\n",
    "# Plotting the 'chd' values against 'age' values\n",
    "plt.scatter(\"age\",\"chd\",data=chd)\n",
    "plt.xlabel(\"age\")\n",
    "plt.ylabel(\"chd\")\n",
    "plt.title(\"Age vs. Coronary Heart Disease\")\n"
   ]
  },
  {
   "cell_type": "code",
   "execution_count": 13,
   "id": "a12492a9",
   "metadata": {},
   "outputs": [
    {
     "name": "stdout",
     "output_type": "stream",
     "text": [
      "Shape of X_train: (70, 1)\n",
      "Shape of y_train: (70,)\n",
      "Shape of X_test: (30, 1)\n",
      "Shape of y_test: (30,)\n"
     ]
    }
   ],
   "source": [
    "# Importing the required class\n",
    "from sklearn.model_selection import train_test_split\n",
    "# Specifying the columns as predictor and target variable\n",
    "predictors = [\"age\"]\n",
    "target = \"chd\"\n",
    "X = chd[predictors] # X contains the predictor values or input data \n",
    "y = chd[target] # y contains the target labels\n",
    "# Spliting the data in training and test set in 70:30 ratio\n",
    "X_train, X_test, y_train, y_test = train_test_split(X, y, test_size=0.3, random_state=0)\n",
    "# Checking the shapes of the resulting datasets\n",
    "print(\"Shape of X_train:\", X_train.shape)\n",
    "print(\"Shape of y_train:\", y_train.shape)\n",
    "print(\"Shape of X_test:\", X_test.shape)\n",
    "print(\"Shape of y_test:\", y_test.shape)\n"
   ]
  },
  {
   "cell_type": "code",
   "execution_count": 14,
   "id": "c5aff67d",
   "metadata": {},
   "outputs": [
    {
     "name": "stdout",
     "output_type": "stream",
     "text": [
      "Intercept: [-5.65118929] \n",
      "Coefficients: [[0.11144281]]\n"
     ]
    }
   ],
   "source": [
    "# Importing the required class\n",
    "from sklearn.linear_model import LogisticRegression\n",
    "# Creating the object of the class LogisticRegression\n",
    "model = LogisticRegression()\n",
    "# Training the model using the training data\n",
    "model.fit(X_train,y_train)\n",
    "# Getting the intercept and the coefficients of the model\n",
    "print(\"Intercept:\",model.intercept_,\"\\nCoefficients:\", model.coef_)\n"
   ]
  },
  {
   "cell_type": "code",
   "execution_count": 15,
   "id": "a07bdcd1",
   "metadata": {},
   "outputs": [
    {
     "name": "stdout",
     "output_type": "stream",
     "text": [
      "Predicted probability for class '0' and '1' respectively: [[0.91829082 0.08170918]]\n",
      "\n",
      "Predicted target i.e. 'chd' value: [0]\n"
     ]
    },
    {
     "name": "stderr",
     "output_type": "stream",
     "text": [
      "C:\\Users\\Admin\\anaconda3\\lib\\site-packages\\sklearn\\base.py:450: UserWarning: X does not have valid feature names, but LogisticRegression was fitted with feature names\n",
      "  warnings.warn(\n",
      "C:\\Users\\Admin\\anaconda3\\lib\\site-packages\\sklearn\\base.py:450: UserWarning: X does not have valid feature names, but LogisticRegression was fitted with feature names\n",
      "  warnings.warn(\n"
     ]
    }
   ],
   "source": [
    "# Creating a sample data\n",
    "test=np.array([29]).reshape(1,-1)\n",
    "# Predicting the probabilities for each of the class labels\n",
    "print(\"Predicted probability for class '0' and '1' respectively:\", model.predict_proba(test))\n",
    "# Predicting the final class label or target value\n",
    "print(\"\\nPredicted target i.e. 'chd' value:\",model.predict(test))\n"
   ]
  },
  {
   "cell_type": "code",
   "execution_count": 16,
   "id": "d25598b4",
   "metadata": {},
   "outputs": [
    {
     "name": "stdout",
     "output_type": "stream",
     "text": [
      "Accuracy score of the model on training data: 0.7428571428571429\n",
      "Accuracy score of the model on test data: 0.7333333333333333\n"
     ]
    }
   ],
   "source": [
    "print(\"Accuracy score of the model on training data:\", model.score(X_train, y_train))\n",
    "print(\"Accuracy score of the model on test data:\", model.score(X_test, y_test))\n"
   ]
  },
  {
   "cell_type": "code",
   "execution_count": null,
   "id": "475a281a",
   "metadata": {},
   "outputs": [],
   "source": []
  }
 ],
 "metadata": {
  "kernelspec": {
   "display_name": "Python 3 (ipykernel)",
   "language": "python",
   "name": "python3"
  },
  "language_info": {
   "codemirror_mode": {
    "name": "ipython",
    "version": 3
   },
   "file_extension": ".py",
   "mimetype": "text/x-python",
   "name": "python",
   "nbconvert_exporter": "python",
   "pygments_lexer": "ipython3",
   "version": "3.9.12"
  }
 },
 "nbformat": 4,
 "nbformat_minor": 5
}
