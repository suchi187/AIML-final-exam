{
 "cells": [
  {
   "cell_type": "code",
   "execution_count": 2,
   "id": "ff405b0e",
   "metadata": {},
   "outputs": [
    {
     "name": "stdout",
     "output_type": "stream",
     "text": [
      "Requirement already satisfied: keras in c:\\users\\admin\\anaconda3\\lib\\site-packages (2.11.0)\n",
      "Note: you may need to restart the kernel to use updated packages.\n"
     ]
    }
   ],
   "source": [
    "pip install keras"
   ]
  },
  {
   "cell_type": "code",
   "execution_count": 3,
   "id": "77972107",
   "metadata": {},
   "outputs": [
    {
     "name": "stdout",
     "output_type": "stream",
     "text": [
      "Requirement already satisfied: tensorflow in c:\\users\\admin\\anaconda3\\lib\\site-packages (2.11.0)\n",
      "Requirement already satisfied: tensorflow-intel==2.11.0 in c:\\users\\admin\\anaconda3\\lib\\site-packages (from tensorflow) (2.11.0)\n",
      "Requirement already satisfied: grpcio<2.0,>=1.24.3 in c:\\users\\admin\\anaconda3\\lib\\site-packages (from tensorflow-intel==2.11.0->tensorflow) (1.42.0)\n",
      "Requirement already satisfied: setuptools in c:\\users\\admin\\anaconda3\\lib\\site-packages (from tensorflow-intel==2.11.0->tensorflow) (61.2.0)\n",
      "Requirement already satisfied: tensorflow-io-gcs-filesystem>=0.23.1 in c:\\users\\admin\\anaconda3\\lib\\site-packages (from tensorflow-intel==2.11.0->tensorflow) (0.28.0)\n",
      "Requirement already satisfied: typing-extensions>=3.6.6 in c:\\users\\admin\\anaconda3\\lib\\site-packages (from tensorflow-intel==2.11.0->tensorflow) (4.1.1)\n",
      "Requirement already satisfied: opt-einsum>=2.3.2 in c:\\users\\admin\\anaconda3\\lib\\site-packages (from tensorflow-intel==2.11.0->tensorflow) (3.3.0)\n",
      "Requirement already satisfied: tensorflow-estimator<2.12,>=2.11.0 in c:\\users\\admin\\anaconda3\\lib\\site-packages (from tensorflow-intel==2.11.0->tensorflow) (2.11.0)\n",
      "Requirement already satisfied: libclang>=13.0.0 in c:\\users\\admin\\anaconda3\\lib\\site-packages (from tensorflow-intel==2.11.0->tensorflow) (14.0.6)\n",
      "Requirement already satisfied: gast<=0.4.0,>=0.2.1 in c:\\users\\admin\\anaconda3\\lib\\site-packages (from tensorflow-intel==2.11.0->tensorflow) (0.4.0)\n",
      "Requirement already satisfied: keras<2.12,>=2.11.0 in c:\\users\\admin\\anaconda3\\lib\\site-packages (from tensorflow-intel==2.11.0->tensorflow) (2.11.0)\n",
      "Requirement already satisfied: absl-py>=1.0.0 in c:\\users\\admin\\anaconda3\\lib\\site-packages (from tensorflow-intel==2.11.0->tensorflow) (1.3.0)\n",
      "Requirement already satisfied: astunparse>=1.6.0 in c:\\users\\admin\\anaconda3\\lib\\site-packages (from tensorflow-intel==2.11.0->tensorflow) (1.6.3)\n",
      "Requirement already satisfied: flatbuffers>=2.0 in c:\\users\\admin\\anaconda3\\lib\\site-packages (from tensorflow-intel==2.11.0->tensorflow) (22.12.6)\n",
      "Requirement already satisfied: tensorboard<2.12,>=2.11 in c:\\users\\admin\\anaconda3\\lib\\site-packages (from tensorflow-intel==2.11.0->tensorflow) (2.11.0)\n",
      "Requirement already satisfied: termcolor>=1.1.0 in c:\\users\\admin\\anaconda3\\lib\\site-packages (from tensorflow-intel==2.11.0->tensorflow) (2.1.1)\n",
      "Requirement already satisfied: protobuf<3.20,>=3.9.2 in c:\\users\\admin\\anaconda3\\lib\\site-packages (from tensorflow-intel==2.11.0->tensorflow) (3.19.1)\n",
      "Requirement already satisfied: h5py>=2.9.0 in c:\\users\\admin\\anaconda3\\lib\\site-packages (from tensorflow-intel==2.11.0->tensorflow) (3.6.0)\n",
      "Requirement already satisfied: packaging in c:\\users\\admin\\anaconda3\\lib\\site-packages (from tensorflow-intel==2.11.0->tensorflow) (21.3)\n",
      "Requirement already satisfied: wrapt>=1.11.0 in c:\\users\\admin\\anaconda3\\lib\\site-packages (from tensorflow-intel==2.11.0->tensorflow) (1.12.1)\n",
      "Requirement already satisfied: google-pasta>=0.1.1 in c:\\users\\admin\\anaconda3\\lib\\site-packages (from tensorflow-intel==2.11.0->tensorflow) (0.2.0)\n",
      "Requirement already satisfied: six>=1.12.0 in c:\\users\\admin\\anaconda3\\lib\\site-packages (from tensorflow-intel==2.11.0->tensorflow) (1.16.0)\n",
      "Requirement already satisfied: numpy>=1.20 in c:\\users\\admin\\anaconda3\\lib\\site-packages (from tensorflow-intel==2.11.0->tensorflow) (1.21.5)\n",
      "Requirement already satisfied: wheel<1.0,>=0.23.0 in c:\\users\\admin\\anaconda3\\lib\\site-packages (from astunparse>=1.6.0->tensorflow-intel==2.11.0->tensorflow) (0.37.1)\n",
      "Requirement already satisfied: google-auth<3,>=1.6.3 in c:\\users\\admin\\anaconda3\\lib\\site-packages (from tensorboard<2.12,>=2.11->tensorflow-intel==2.11.0->tensorflow) (1.33.0)\n",
      "Requirement already satisfied: werkzeug>=1.0.1 in c:\\users\\admin\\anaconda3\\lib\\site-packages (from tensorboard<2.12,>=2.11->tensorflow-intel==2.11.0->tensorflow) (2.0.3)\n",
      "Requirement already satisfied: tensorboard-plugin-wit>=1.6.0 in c:\\users\\admin\\anaconda3\\lib\\site-packages (from tensorboard<2.12,>=2.11->tensorflow-intel==2.11.0->tensorflow) (1.8.1)\n",
      "Requirement already satisfied: requests<3,>=2.21.0 in c:\\users\\admin\\anaconda3\\lib\\site-packages (from tensorboard<2.12,>=2.11->tensorflow-intel==2.11.0->tensorflow) (2.27.1)\n",
      "Requirement already satisfied: tensorboard-data-server<0.7.0,>=0.6.0 in c:\\users\\admin\\anaconda3\\lib\\site-packages (from tensorboard<2.12,>=2.11->tensorflow-intel==2.11.0->tensorflow) (0.6.1)\n",
      "Requirement already satisfied: markdown>=2.6.8 in c:\\users\\admin\\anaconda3\\lib\\site-packages (from tensorboard<2.12,>=2.11->tensorflow-intel==2.11.0->tensorflow) (3.3.4)\n",
      "Requirement already satisfied: google-auth-oauthlib<0.5,>=0.4.1 in c:\\users\\admin\\anaconda3\\lib\\site-packages (from tensorboard<2.12,>=2.11->tensorflow-intel==2.11.0->tensorflow) (0.4.6)\n",
      "Requirement already satisfied: rsa<5,>=3.1.4 in c:\\users\\admin\\anaconda3\\lib\\site-packages (from google-auth<3,>=1.6.3->tensorboard<2.12,>=2.11->tensorflow-intel==2.11.0->tensorflow) (4.7.2)\n",
      "Requirement already satisfied: cachetools<5.0,>=2.0.0 in c:\\users\\admin\\anaconda3\\lib\\site-packages (from google-auth<3,>=1.6.3->tensorboard<2.12,>=2.11->tensorflow-intel==2.11.0->tensorflow) (4.2.2)\n",
      "Requirement already satisfied: pyasn1-modules>=0.2.1 in c:\\users\\admin\\anaconda3\\lib\\site-packages (from google-auth<3,>=1.6.3->tensorboard<2.12,>=2.11->tensorflow-intel==2.11.0->tensorflow) (0.2.8)\n",
      "Requirement already satisfied: requests-oauthlib>=0.7.0 in c:\\users\\admin\\anaconda3\\lib\\site-packages (from google-auth-oauthlib<0.5,>=0.4.1->tensorboard<2.12,>=2.11->tensorflow-intel==2.11.0->tensorflow) (1.3.1)\n",
      "Requirement already satisfied: pyasn1<0.5.0,>=0.4.6 in c:\\users\\admin\\anaconda3\\lib\\site-packages (from pyasn1-modules>=0.2.1->google-auth<3,>=1.6.3->tensorboard<2.12,>=2.11->tensorflow-intel==2.11.0->tensorflow) (0.4.8)\n",
      "Requirement already satisfied: charset-normalizer~=2.0.0 in c:\\users\\admin\\anaconda3\\lib\\site-packages (from requests<3,>=2.21.0->tensorboard<2.12,>=2.11->tensorflow-intel==2.11.0->tensorflow) (2.0.4)\n",
      "Requirement already satisfied: urllib3<1.27,>=1.21.1 in c:\\users\\admin\\anaconda3\\lib\\site-packages (from requests<3,>=2.21.0->tensorboard<2.12,>=2.11->tensorflow-intel==2.11.0->tensorflow) (1.26.9)\n",
      "Requirement already satisfied: idna<4,>=2.5 in c:\\users\\admin\\anaconda3\\lib\\site-packages (from requests<3,>=2.21.0->tensorboard<2.12,>=2.11->tensorflow-intel==2.11.0->tensorflow) (3.3)\n",
      "Requirement already satisfied: certifi>=2017.4.17 in c:\\users\\admin\\anaconda3\\lib\\site-packages (from requests<3,>=2.21.0->tensorboard<2.12,>=2.11->tensorflow-intel==2.11.0->tensorflow) (2021.10.8)\n",
      "Requirement already satisfied: oauthlib>=3.0.0 in c:\\users\\admin\\anaconda3\\lib\\site-packages (from requests-oauthlib>=0.7.0->google-auth-oauthlib<0.5,>=0.4.1->tensorboard<2.12,>=2.11->tensorflow-intel==2.11.0->tensorflow) (3.2.2)\n",
      "Requirement already satisfied: pyparsing!=3.0.5,>=2.0.2 in c:\\users\\admin\\anaconda3\\lib\\site-packages (from packaging->tensorflow-intel==2.11.0->tensorflow) (3.0.4)\n",
      "Note: you may need to restart the kernel to use updated packages.\n"
     ]
    }
   ],
   "source": [
    "pip install tensorflow"
   ]
  },
  {
   "cell_type": "code",
   "execution_count": 5,
   "id": "6632bb4d",
   "metadata": {},
   "outputs": [],
   "source": [
    "import pandas as pd\n",
    "import numpy as np\n",
    "import seaborn as sns\n",
    "import matplotlib.pyplot as plt\n",
    "import warnings\n",
    "%matplotlib inline\n",
    "warnings.filterwarnings('ignore')\n",
    "from keras.models import Sequential\n",
    "from keras.layers import Dense\n",
    "from sklearn import linear_model\n",
    "from sklearn.metrics import mean_squared_error, mean_absolute_error"
   ]
  },
  {
   "cell_type": "code",
   "execution_count": 7,
   "id": "26d000d1",
   "metadata": {},
   "outputs": [],
   "source": [
    "from tensorflow.keras.datasets import boston_housing"
   ]
  },
  {
   "cell_type": "code",
   "execution_count": 8,
   "id": "9d1aedc3",
   "metadata": {},
   "outputs": [
    {
     "name": "stdout",
     "output_type": "stream",
     "text": [
      "Downloading data from https://storage.googleapis.com/tensorflow/tf-keras-datasets/boston_housing.npz\n",
      "57026/57026 [==============================] - 0s 2us/step\n"
     ]
    }
   ],
   "source": [
    "(X_train,y_train),(X_test,y_test)=boston_housing.load_data()"
   ]
  },
  {
   "cell_type": "code",
   "execution_count": 9,
   "id": "29d709d6",
   "metadata": {},
   "outputs": [],
   "source": [
    "from sklearn.preprocessing import StandardScaler\n",
    "scaler=StandardScaler()\n",
    "scaler.fit(X_train)\n",
    "X_train_scaled = scaler.transform(X_train)\n",
    "X_test_scaled = scaler.transform(X_test)"
   ]
  },
  {
   "cell_type": "code",
   "execution_count": 10,
   "id": "9308a70e",
   "metadata": {},
   "outputs": [],
   "source": [
    "model = Sequential()\n",
    "model.add(Dense(128, input_dim=13, activation='relu'))\n",
    "model.add(Dense(64, activation='relu'))\n",
    "#Output layer\n",
    "model.add(Dense(1, activation='linear'))"
   ]
  },
  {
   "cell_type": "code",
   "execution_count": 11,
   "id": "ba06773c",
   "metadata": {},
   "outputs": [
    {
     "name": "stdout",
     "output_type": "stream",
     "text": [
      "Model: \"sequential\"\n",
      "_________________________________________________________________\n",
      " Layer (type)                Output Shape              Param #   \n",
      "=================================================================\n",
      " dense (Dense)               (None, 128)               1792      \n",
      "                                                                 \n",
      " dense_1 (Dense)             (None, 64)                8256      \n",
      "                                                                 \n",
      " dense_2 (Dense)             (None, 1)                 65        \n",
      "                                                                 \n",
      "=================================================================\n",
      "Total params: 10,113\n",
      "Trainable params: 10,113\n",
      "Non-trainable params: 0\n",
      "_________________________________________________________________\n"
     ]
    }
   ],
   "source": [
    "model.compile(loss='mean_squared_error', optimizer='adam', metrics=['mae'])\n",
    "model.summary()"
   ]
  },
  {
   "cell_type": "code",
   "execution_count": 12,
   "id": "4d976ba6",
   "metadata": {},
   "outputs": [
    {
     "name": "stdout",
     "output_type": "stream",
     "text": [
      "Epoch 1/100\n",
      "11/11 [==============================] - 2s 45ms/step - loss: 564.3831 - mae: 21.8752 - val_loss: 595.2294 - val_mae: 22.5856\n",
      "Epoch 2/100\n",
      "11/11 [==============================] - 0s 4ms/step - loss: 501.9810 - mae: 20.3715 - val_loss: 531.5349 - val_mae: 21.1209\n",
      "Epoch 3/100\n",
      "11/11 [==============================] - 0s 3ms/step - loss: 436.2554 - mae: 18.6936 - val_loss: 452.1558 - val_mae: 19.2402\n",
      "Epoch 4/100\n",
      "11/11 [==============================] - 0s 3ms/step - loss: 353.8048 - mae: 16.5033 - val_loss: 353.4619 - val_mae: 16.6305\n",
      "Epoch 5/100\n",
      "11/11 [==============================] - 0s 3ms/step - loss: 257.4964 - mae: 13.7128 - val_loss: 242.2316 - val_mae: 13.2888\n",
      "Epoch 6/100\n",
      "11/11 [==============================] - 0s 3ms/step - loss: 159.1944 - mae: 10.3124 - val_loss: 141.3153 - val_mae: 9.3764\n",
      "Epoch 7/100\n",
      "11/11 [==============================] - 0s 3ms/step - loss: 90.2177 - mae: 7.3734 - val_loss: 84.0893 - val_mae: 6.8590\n",
      "Epoch 8/100\n",
      "11/11 [==============================] - 0s 3ms/step - loss: 60.4682 - mae: 5.8440 - val_loss: 62.3800 - val_mae: 5.8740\n",
      "Epoch 9/100\n",
      "11/11 [==============================] - 0s 3ms/step - loss: 48.4718 - mae: 5.0321 - val_loss: 48.4303 - val_mae: 5.1280\n",
      "Epoch 10/100\n",
      "11/11 [==============================] - 0s 3ms/step - loss: 37.5592 - mae: 4.3369 - val_loss: 37.6211 - val_mae: 4.4707\n",
      "Epoch 11/100\n",
      "11/11 [==============================] - 0s 3ms/step - loss: 30.8758 - mae: 3.8819 - val_loss: 31.3471 - val_mae: 4.0735\n",
      "Epoch 12/100\n",
      "11/11 [==============================] - 0s 3ms/step - loss: 27.1443 - mae: 3.6362 - val_loss: 27.1271 - val_mae: 3.7827\n",
      "Epoch 13/100\n",
      "11/11 [==============================] - 0s 3ms/step - loss: 24.3401 - mae: 3.4320 - val_loss: 24.3952 - val_mae: 3.6619\n",
      "Epoch 14/100\n",
      "11/11 [==============================] - 0s 3ms/step - loss: 22.5673 - mae: 3.2830 - val_loss: 22.9257 - val_mae: 3.5617\n",
      "Epoch 15/100\n",
      "11/11 [==============================] - 0s 3ms/step - loss: 21.1523 - mae: 3.1693 - val_loss: 21.9761 - val_mae: 3.5213\n",
      "Epoch 16/100\n",
      "11/11 [==============================] - 0s 3ms/step - loss: 19.9240 - mae: 3.0965 - val_loss: 20.5842 - val_mae: 3.4103\n",
      "Epoch 17/100\n",
      "11/11 [==============================] - 0s 3ms/step - loss: 18.9270 - mae: 3.0121 - val_loss: 19.4450 - val_mae: 3.3126\n",
      "Epoch 18/100\n",
      "11/11 [==============================] - 0s 3ms/step - loss: 18.0298 - mae: 2.9259 - val_loss: 18.4643 - val_mae: 3.1986\n",
      "Epoch 19/100\n",
      "11/11 [==============================] - 0s 3ms/step - loss: 17.2580 - mae: 2.8533 - val_loss: 17.8573 - val_mae: 3.1592\n",
      "Epoch 20/100\n",
      "11/11 [==============================] - 0s 3ms/step - loss: 16.4578 - mae: 2.7956 - val_loss: 17.4048 - val_mae: 3.1823\n",
      "Epoch 21/100\n",
      "11/11 [==============================] - 0s 3ms/step - loss: 15.7822 - mae: 2.7690 - val_loss: 16.8049 - val_mae: 3.1053\n",
      "Epoch 22/100\n",
      "11/11 [==============================] - 0s 3ms/step - loss: 15.0347 - mae: 2.7068 - val_loss: 16.2358 - val_mae: 2.9994\n",
      "Epoch 23/100\n",
      "11/11 [==============================] - 0s 3ms/step - loss: 14.5071 - mae: 2.6455 - val_loss: 15.8720 - val_mae: 2.9643\n",
      "Epoch 24/100\n",
      "11/11 [==============================] - 0s 3ms/step - loss: 13.9559 - mae: 2.5850 - val_loss: 15.5620 - val_mae: 2.9487\n",
      "Epoch 25/100\n",
      "11/11 [==============================] - 0s 3ms/step - loss: 13.5647 - mae: 2.5610 - val_loss: 15.2235 - val_mae: 2.9155\n",
      "Epoch 26/100\n",
      "11/11 [==============================] - 0s 3ms/step - loss: 13.1680 - mae: 2.5074 - val_loss: 14.8505 - val_mae: 2.9069\n",
      "Epoch 27/100\n",
      "11/11 [==============================] - 0s 3ms/step - loss: 12.8469 - mae: 2.4753 - val_loss: 14.5176 - val_mae: 2.8217\n",
      "Epoch 28/100\n",
      "11/11 [==============================] - 0s 3ms/step - loss: 12.4243 - mae: 2.4519 - val_loss: 14.1953 - val_mae: 2.7943\n",
      "Epoch 29/100\n",
      "11/11 [==============================] - 0s 3ms/step - loss: 12.1620 - mae: 2.4182 - val_loss: 14.0082 - val_mae: 2.7659\n",
      "Epoch 30/100\n",
      "11/11 [==============================] - 0s 3ms/step - loss: 11.8585 - mae: 2.3973 - val_loss: 13.9485 - val_mae: 2.7555\n",
      "Epoch 31/100\n",
      "11/11 [==============================] - 0s 3ms/step - loss: 11.8538 - mae: 2.4541 - val_loss: 14.3503 - val_mae: 2.7782\n",
      "Epoch 32/100\n",
      "11/11 [==============================] - 0s 3ms/step - loss: 11.6663 - mae: 2.3850 - val_loss: 13.4055 - val_mae: 2.7342\n",
      "Epoch 33/100\n",
      "11/11 [==============================] - 0s 3ms/step - loss: 11.3529 - mae: 2.3216 - val_loss: 13.3587 - val_mae: 2.6995\n",
      "Epoch 34/100\n",
      "11/11 [==============================] - 0s 3ms/step - loss: 11.0742 - mae: 2.3100 - val_loss: 13.1686 - val_mae: 2.6605\n",
      "Epoch 35/100\n",
      "11/11 [==============================] - 0s 3ms/step - loss: 10.9628 - mae: 2.2906 - val_loss: 13.2037 - val_mae: 2.6669\n",
      "Epoch 36/100\n",
      "11/11 [==============================] - 0s 3ms/step - loss: 10.8218 - mae: 2.2694 - val_loss: 13.0248 - val_mae: 2.6684\n",
      "Epoch 37/100\n",
      "11/11 [==============================] - 0s 4ms/step - loss: 10.8185 - mae: 2.2475 - val_loss: 12.9867 - val_mae: 2.6625\n",
      "Epoch 38/100\n",
      "11/11 [==============================] - 0s 3ms/step - loss: 10.4743 - mae: 2.2410 - val_loss: 13.1407 - val_mae: 2.6131\n",
      "Epoch 39/100\n",
      "11/11 [==============================] - 0s 3ms/step - loss: 10.4520 - mae: 2.2933 - val_loss: 13.3643 - val_mae: 2.6183\n",
      "Epoch 40/100\n",
      "11/11 [==============================] - 0s 3ms/step - loss: 10.5917 - mae: 2.2498 - val_loss: 12.7899 - val_mae: 2.6799\n",
      "Epoch 41/100\n",
      "11/11 [==============================] - 0s 4ms/step - loss: 10.1399 - mae: 2.1865 - val_loss: 12.9337 - val_mae: 2.5977\n",
      "Epoch 42/100\n",
      "11/11 [==============================] - 0s 4ms/step - loss: 9.9397 - mae: 2.2048 - val_loss: 13.0285 - val_mae: 2.6063\n",
      "Epoch 43/100\n",
      "11/11 [==============================] - 0s 4ms/step - loss: 9.7771 - mae: 2.1840 - val_loss: 12.7653 - val_mae: 2.5934\n",
      "Epoch 44/100\n",
      "11/11 [==============================] - 0s 5ms/step - loss: 9.7200 - mae: 2.1776 - val_loss: 12.8349 - val_mae: 2.5880\n",
      "Epoch 45/100\n",
      "11/11 [==============================] - 0s 4ms/step - loss: 9.6352 - mae: 2.1738 - val_loss: 12.8656 - val_mae: 2.5662\n",
      "Epoch 46/100\n",
      "11/11 [==============================] - 0s 5ms/step - loss: 9.5922 - mae: 2.1805 - val_loss: 13.1933 - val_mae: 2.6828\n",
      "Epoch 47/100\n",
      "11/11 [==============================] - 0s 4ms/step - loss: 9.6484 - mae: 2.1709 - val_loss: 12.9933 - val_mae: 2.5634\n",
      "Epoch 48/100\n",
      "11/11 [==============================] - 0s 3ms/step - loss: 9.5227 - mae: 2.1264 - val_loss: 12.8699 - val_mae: 2.6025\n",
      "Epoch 49/100\n",
      "11/11 [==============================] - 0s 3ms/step - loss: 10.4339 - mae: 2.3547 - val_loss: 15.4768 - val_mae: 2.7427\n",
      "Epoch 50/100\n",
      "11/11 [==============================] - 0s 3ms/step - loss: 9.5817 - mae: 2.2398 - val_loss: 12.9737 - val_mae: 2.6756\n",
      "Epoch 51/100\n",
      "11/11 [==============================] - 0s 3ms/step - loss: 9.7307 - mae: 2.1905 - val_loss: 13.3268 - val_mae: 2.6928\n",
      "Epoch 52/100\n",
      "11/11 [==============================] - 0s 3ms/step - loss: 9.1643 - mae: 2.1583 - val_loss: 13.3184 - val_mae: 2.5948\n",
      "Epoch 53/100\n",
      "11/11 [==============================] - 0s 3ms/step - loss: 8.9492 - mae: 2.1300 - val_loss: 13.1742 - val_mae: 2.6140\n",
      "Epoch 54/100\n",
      "11/11 [==============================] - 0s 3ms/step - loss: 8.8415 - mae: 2.1119 - val_loss: 13.1402 - val_mae: 2.6044\n",
      "Epoch 55/100\n",
      "11/11 [==============================] - 0s 3ms/step - loss: 8.8816 - mae: 2.0950 - val_loss: 12.6997 - val_mae: 2.6033\n",
      "Epoch 56/100\n",
      "11/11 [==============================] - 0s 3ms/step - loss: 8.6580 - mae: 2.0637 - val_loss: 12.5967 - val_mae: 2.5293\n",
      "Epoch 57/100\n",
      "11/11 [==============================] - 0s 3ms/step - loss: 8.6544 - mae: 2.0812 - val_loss: 13.0025 - val_mae: 2.5846\n",
      "Epoch 58/100\n",
      "11/11 [==============================] - 0s 3ms/step - loss: 8.5451 - mae: 2.0726 - val_loss: 12.7336 - val_mae: 2.5521\n",
      "Epoch 59/100\n",
      "11/11 [==============================] - 0s 3ms/step - loss: 8.6718 - mae: 2.0567 - val_loss: 12.5755 - val_mae: 2.5483\n",
      "Epoch 60/100\n",
      "11/11 [==============================] - 0s 3ms/step - loss: 8.6193 - mae: 2.0677 - val_loss: 13.3880 - val_mae: 2.6399\n",
      "Epoch 61/100\n",
      "11/11 [==============================] - 0s 3ms/step - loss: 8.4465 - mae: 2.0708 - val_loss: 13.2416 - val_mae: 2.5617\n",
      "Epoch 62/100\n"
     ]
    },
    {
     "name": "stdout",
     "output_type": "stream",
     "text": [
      "11/11 [==============================] - 0s 3ms/step - loss: 8.5013 - mae: 2.0618 - val_loss: 13.1187 - val_mae: 2.5802\n",
      "Epoch 63/100\n",
      "11/11 [==============================] - 0s 3ms/step - loss: 8.2850 - mae: 2.0380 - val_loss: 13.5282 - val_mae: 2.6139\n",
      "Epoch 64/100\n",
      "11/11 [==============================] - 0s 3ms/step - loss: 8.3610 - mae: 2.0736 - val_loss: 13.3202 - val_mae: 2.5724\n",
      "Epoch 65/100\n",
      "11/11 [==============================] - 0s 3ms/step - loss: 8.2197 - mae: 2.0153 - val_loss: 12.1593 - val_mae: 2.6021\n",
      "Epoch 66/100\n",
      "11/11 [==============================] - 0s 3ms/step - loss: 8.2977 - mae: 2.0088 - val_loss: 12.3055 - val_mae: 2.5447\n",
      "Epoch 67/100\n",
      "11/11 [==============================] - 0s 3ms/step - loss: 8.2150 - mae: 2.0315 - val_loss: 12.7828 - val_mae: 2.5533\n",
      "Epoch 68/100\n",
      "11/11 [==============================] - 0s 3ms/step - loss: 8.0716 - mae: 1.9968 - val_loss: 12.4553 - val_mae: 2.5122\n",
      "Epoch 69/100\n",
      "11/11 [==============================] - 0s 3ms/step - loss: 8.0982 - mae: 1.9988 - val_loss: 12.7776 - val_mae: 2.5326\n",
      "Epoch 70/100\n",
      "11/11 [==============================] - 0s 3ms/step - loss: 7.9270 - mae: 1.9930 - val_loss: 13.1226 - val_mae: 2.5881\n",
      "Epoch 71/100\n",
      "11/11 [==============================] - 0s 3ms/step - loss: 7.8645 - mae: 1.9903 - val_loss: 12.9004 - val_mae: 2.5186\n",
      "Epoch 72/100\n",
      "11/11 [==============================] - 0s 3ms/step - loss: 7.8350 - mae: 1.9617 - val_loss: 12.8302 - val_mae: 2.5265\n",
      "Epoch 73/100\n",
      "11/11 [==============================] - 0s 3ms/step - loss: 7.8165 - mae: 1.9500 - val_loss: 12.7998 - val_mae: 2.5573\n",
      "Epoch 74/100\n",
      "11/11 [==============================] - 0s 3ms/step - loss: 7.7523 - mae: 1.9425 - val_loss: 12.6614 - val_mae: 2.5355\n",
      "Epoch 75/100\n",
      "11/11 [==============================] - 0s 3ms/step - loss: 7.7030 - mae: 1.9360 - val_loss: 12.5007 - val_mae: 2.5317\n",
      "Epoch 76/100\n",
      "11/11 [==============================] - 0s 3ms/step - loss: 7.7375 - mae: 1.9291 - val_loss: 12.4980 - val_mae: 2.5110\n",
      "Epoch 77/100\n",
      "11/11 [==============================] - 0s 3ms/step - loss: 7.6039 - mae: 1.9227 - val_loss: 12.7167 - val_mae: 2.5130\n",
      "Epoch 78/100\n",
      "11/11 [==============================] - 0s 3ms/step - loss: 7.6538 - mae: 1.9255 - val_loss: 12.7011 - val_mae: 2.5105\n",
      "Epoch 79/100\n",
      "11/11 [==============================] - 0s 3ms/step - loss: 7.4391 - mae: 1.9226 - val_loss: 13.2864 - val_mae: 2.5400\n",
      "Epoch 80/100\n",
      "11/11 [==============================] - 0s 3ms/step - loss: 7.5172 - mae: 1.9353 - val_loss: 13.2138 - val_mae: 2.5500\n",
      "Epoch 81/100\n",
      "11/11 [==============================] - 0s 3ms/step - loss: 7.5171 - mae: 1.9202 - val_loss: 12.9440 - val_mae: 2.6095\n",
      "Epoch 82/100\n",
      "11/11 [==============================] - 0s 3ms/step - loss: 7.5425 - mae: 1.9092 - val_loss: 13.3651 - val_mae: 2.5328\n",
      "Epoch 83/100\n",
      "11/11 [==============================] - 0s 3ms/step - loss: 7.3073 - mae: 1.9282 - val_loss: 13.3462 - val_mae: 2.5408\n",
      "Epoch 84/100\n",
      "11/11 [==============================] - 0s 3ms/step - loss: 7.3237 - mae: 1.9064 - val_loss: 13.1175 - val_mae: 2.5367\n",
      "Epoch 85/100\n",
      "11/11 [==============================] - 0s 3ms/step - loss: 7.2285 - mae: 1.9046 - val_loss: 13.5040 - val_mae: 2.5249\n",
      "Epoch 86/100\n",
      "11/11 [==============================] - 0s 3ms/step - loss: 7.2980 - mae: 1.8984 - val_loss: 13.3950 - val_mae: 2.5349\n",
      "Epoch 87/100\n",
      "11/11 [==============================] - 0s 3ms/step - loss: 7.3291 - mae: 1.9461 - val_loss: 13.9988 - val_mae: 2.5411\n",
      "Epoch 88/100\n",
      "11/11 [==============================] - 0s 3ms/step - loss: 7.4675 - mae: 1.9114 - val_loss: 13.2863 - val_mae: 2.6270\n",
      "Epoch 89/100\n",
      "11/11 [==============================] - 0s 3ms/step - loss: 7.3734 - mae: 1.8766 - val_loss: 13.5008 - val_mae: 2.5296\n",
      "Epoch 90/100\n",
      "11/11 [==============================] - 0s 4ms/step - loss: 7.0737 - mae: 1.8774 - val_loss: 13.9342 - val_mae: 2.5244\n",
      "Epoch 91/100\n",
      "11/11 [==============================] - 0s 3ms/step - loss: 6.9958 - mae: 1.8631 - val_loss: 13.7502 - val_mae: 2.5718\n",
      "Epoch 92/100\n",
      "11/11 [==============================] - 0s 3ms/step - loss: 6.9578 - mae: 1.8441 - val_loss: 13.7230 - val_mae: 2.5532\n",
      "Epoch 93/100\n",
      "11/11 [==============================] - 0s 3ms/step - loss: 6.8610 - mae: 1.8422 - val_loss: 13.6192 - val_mae: 2.5247\n",
      "Epoch 94/100\n",
      "11/11 [==============================] - 0s 3ms/step - loss: 6.8129 - mae: 1.8456 - val_loss: 13.8029 - val_mae: 2.5257\n",
      "Epoch 95/100\n",
      "11/11 [==============================] - 0s 3ms/step - loss: 6.9404 - mae: 1.8723 - val_loss: 15.6715 - val_mae: 2.6134\n",
      "Epoch 96/100\n",
      "11/11 [==============================] - 0s 3ms/step - loss: 6.8534 - mae: 1.8380 - val_loss: 14.9693 - val_mae: 2.6054\n",
      "Epoch 97/100\n",
      "11/11 [==============================] - 0s 3ms/step - loss: 6.7389 - mae: 1.8247 - val_loss: 14.7836 - val_mae: 2.6488\n",
      "Epoch 98/100\n",
      "11/11 [==============================] - 0s 3ms/step - loss: 6.7720 - mae: 1.8291 - val_loss: 14.8964 - val_mae: 2.5661\n",
      "Epoch 99/100\n",
      "11/11 [==============================] - 0s 3ms/step - loss: 6.7610 - mae: 1.8494 - val_loss: 14.5660 - val_mae: 2.5589\n",
      "Epoch 100/100\n",
      "11/11 [==============================] - 0s 3ms/step - loss: 6.6087 - mae: 1.8072 - val_loss: 14.0010 - val_mae: 2.5534\n"
     ]
    }
   ],
   "source": [
    "history = model.fit(X_train_scaled, y_train, validation_split=0.2, epochs =100)"
   ]
  },
  {
   "cell_type": "code",
   "execution_count": 14,
   "id": "894402d3",
   "metadata": {},
   "outputs": [
    {
     "data": {
      "image/png": "[encoded data removed]",
      "text/plain": [
       "<Figure size 432x288 with 1 Axes>"
      ]
     },
     "metadata": {
      "needs_background": "light"
     },
     "output_type": "display_data"
    }
   ],
   "source": [
    "from matplotlib import pyplot as plt\n",
    "#plot the training and validation accuracy and loss at each epoch\n",
    "loss = history.history['loss']\n",
    "val_loss = history.history['val_loss']\n",
    "epochs = range(1, len(loss) + 1)\n",
    "plt.plot(epochs, loss, 'y', label='Training loss')\n",
    "plt.plot(epochs, val_loss, 'r', label='Validation loss')\n",
    "plt.title('Training and validation loss')\n",
    "plt.xlabel('Epochs')\n",
    "plt.ylabel('Loss')\n",
    "plt.legend()\n",
    "plt.show()"
   ]
  },
  {
   "cell_type": "code",
   "execution_count": 15,
   "id": "7ebee87e",
   "metadata": {},
   "outputs": [
    {
     "name": "stdout",
     "output_type": "stream",
     "text": [
      "4/4 [==============================] - 0s 2ms/step - loss: 24.7137 - mae: 3.0062\n",
      "Mean squared error from neural net:  24.713743209838867\n",
      "Mean absolute error from neural net:  3.0062358379364014\n"
     ]
    }
   ],
   "source": [
    "mse_neural, mae_neural = model.evaluate(X_test_scaled, y_test)\n",
    "print('Mean squared error from neural net: ', mse_neural)\n",
    "print('Mean absolute error from neural net: ', mae_neural)"
   ]
  },
  {
   "cell_type": "code",
   "execution_count": 16,
   "id": "befee4ac",
   "metadata": {},
   "outputs": [
    {
     "name": "stdout",
     "output_type": "stream",
     "text": [
      "1/1 [==============================] - 0s 116ms/step\n",
      "Predicted values are:  [[ 7.838162]\n",
      " [18.776817]\n",
      " [21.297974]\n",
      " [32.4009  ]\n",
      " [25.060867]]\n",
      "Real values are:  [ 7.2 18.8 19.  27.  22.2]\n"
     ]
    }
   ],
   "source": [
    "predictions = model.predict(X_test_scaled[:5])\n",
    "print(\"Predicted values are: \", predictions)\n",
    "print(\"Real values are: \", y_test[:5])"
   ]
  },
  {
   "cell_type": "code",
   "execution_count": 17,
   "id": "48ebf71d",
   "metadata": {},
   "outputs": [
    {
     "name": "stdout",
     "output_type": "stream",
     "text": [
      "Mean squared error from linear regression:  23.195599256422977\n",
      "Mean absolute error from linear regression:  3.4641858124067166\n"
     ]
    }
   ],
   "source": [
    "lr_model = linear_model.LinearRegression()\n",
    "lr_model.fit(X_train_scaled, y_train)\n",
    "y_pred_lr = lr_model.predict(X_test_scaled)\n",
    "mse_lr = mean_squared_error(y_test, y_pred_lr)\n",
    "mae_lr = mean_absolute_error(y_test, y_pred_lr)\n",
    "print('Mean squared error from linear regression: ', mse_lr)\n",
    "print('Mean absolute error from linear regression: ', mae_lr)"
   ]
  },
  {
   "cell_type": "code",
   "execution_count": null,
   "id": "bcf953df",
   "metadata": {},
   "outputs": [],
   "source": []
  },
  {
   "cell_type": "code",
   "execution_count": null,
   "id": "558b1213",
   "metadata": {},
   "outputs": [],
   "source": []
  }
 ],
 "metadata": {
  "kernelspec": {
   "display_name": "Python 3 (ipykernel)",
   "language": "python",
   "name": "python3"
  },
  "language_info": {
   "codemirror_mode": {
    "name": "ipython",
    "version": 3
   },
   "file_extension": ".py",
   "mimetype": "text/x-python",
   "name": "python",
   "nbconvert_exporter": "python",
   "pygments_lexer": "ipython3",
   "version": "3.9.12"
  }
 },
 "nbformat": 4,
 "nbformat_minor": 5
}
